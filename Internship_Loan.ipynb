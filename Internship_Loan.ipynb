{
 "cells": [
  {
   "cell_type": "code",
   "execution_count": 2,
   "metadata": {},
   "outputs": [],
   "source": [
    "#Importing Libraries\n",
    "import pandas as pd \n",
    "import numpy as np\n",
    "import matplotlib.pyplot as plt\n",
    "%matplotlib  inline\n",
    "import seaborn as sb"
   ]
  },
  {
   "cell_type": "code",
   "execution_count": 3,
   "metadata": {},
   "outputs": [
    {
     "name": "stderr",
     "output_type": "stream",
     "text": [
      "C:\\Users\\Lenovo\\Anaconda3\\lib\\site-packages\\IPython\\core\\interactiveshell.py:2785: DtypeWarning: Columns (47) have mixed types. Specify dtype option on import or set low_memory=False.\n",
      "  interactivity=interactivity, compiler=compiler, result=result)\n"
     ]
    }
   ],
   "source": [
    "df = pd.read_csv(\"C:/Users/Lenovo/Desktop/udacity/Internship/AAP/loan.csv\")"
   ]
  },
  {
   "cell_type": "code",
   "execution_count": 4,
   "metadata": {},
   "outputs": [
    {
     "data": {
      "text/plain": [
       "id                       int64\n",
       "member_id                int64\n",
       "loan_amnt                int64\n",
       "funded_amnt              int64\n",
       "funded_amnt_inv        float64\n",
       "term                    object\n",
       "int_rate                object\n",
       "installment            float64\n",
       "grade                   object\n",
       "sub_grade               object\n",
       "emp_title               object\n",
       "emp_length              object\n",
       "home_ownership          object\n",
       "annual_inc             float64\n",
       "verification_status     object\n",
       "issue_d                 object\n",
       "loan_status             object\n",
       "pymnt_plan              object\n",
       "url                     object\n",
       "desc                    object\n",
       "dtype: object"
      ]
     },
     "execution_count": 4,
     "metadata": {},
     "output_type": "execute_result"
    }
   ],
   "source": [
    "df.dtypes[:20]"
   ]
  },
  {
   "cell_type": "code",
   "execution_count": 5,
   "metadata": {},
   "outputs": [],
   "source": [
    "df_new = df.filter(['id','grade','sub_grade','annual_inc','loan_amnt','home_ownership','verification_status','emp_length','purpose','addr_state','term','int_rate','loan_status'])"
   ]
  },
  {
   "cell_type": "code",
   "execution_count": 6,
   "metadata": {},
   "outputs": [
    {
     "data": {
      "text/html": [
       "<div>\n",
       "<style scoped>\n",
       "    .dataframe tbody tr th:only-of-type {\n",
       "        vertical-align: middle;\n",
       "    }\n",
       "\n",
       "    .dataframe tbody tr th {\n",
       "        vertical-align: top;\n",
       "    }\n",
       "\n",
       "    .dataframe thead th {\n",
       "        text-align: right;\n",
       "    }\n",
       "</style>\n",
       "<table border=\"1\" class=\"dataframe\">\n",
       "  <thead>\n",
       "    <tr style=\"text-align: right;\">\n",
       "      <th></th>\n",
       "      <th>id</th>\n",
       "      <th>grade</th>\n",
       "      <th>sub_grade</th>\n",
       "      <th>annual_inc</th>\n",
       "      <th>loan_amnt</th>\n",
       "      <th>home_ownership</th>\n",
       "      <th>verification_status</th>\n",
       "      <th>emp_length</th>\n",
       "      <th>purpose</th>\n",
       "      <th>addr_state</th>\n",
       "      <th>term</th>\n",
       "      <th>int_rate</th>\n",
       "      <th>loan_status</th>\n",
       "    </tr>\n",
       "  </thead>\n",
       "  <tbody>\n",
       "    <tr>\n",
       "      <th>0</th>\n",
       "      <td>1077501</td>\n",
       "      <td>B</td>\n",
       "      <td>B2</td>\n",
       "      <td>24000.0</td>\n",
       "      <td>5000</td>\n",
       "      <td>RENT</td>\n",
       "      <td>Verified</td>\n",
       "      <td>10+ years</td>\n",
       "      <td>credit_card</td>\n",
       "      <td>AZ</td>\n",
       "      <td>36 months</td>\n",
       "      <td>10.65%</td>\n",
       "      <td>Fully Paid</td>\n",
       "    </tr>\n",
       "    <tr>\n",
       "      <th>1</th>\n",
       "      <td>1077430</td>\n",
       "      <td>C</td>\n",
       "      <td>C4</td>\n",
       "      <td>30000.0</td>\n",
       "      <td>2500</td>\n",
       "      <td>RENT</td>\n",
       "      <td>Source Verified</td>\n",
       "      <td>&lt; 1 year</td>\n",
       "      <td>car</td>\n",
       "      <td>GA</td>\n",
       "      <td>60 months</td>\n",
       "      <td>15.27%</td>\n",
       "      <td>Charged Off</td>\n",
       "    </tr>\n",
       "    <tr>\n",
       "      <th>2</th>\n",
       "      <td>1077175</td>\n",
       "      <td>C</td>\n",
       "      <td>C5</td>\n",
       "      <td>12252.0</td>\n",
       "      <td>2400</td>\n",
       "      <td>RENT</td>\n",
       "      <td>Not Verified</td>\n",
       "      <td>10+ years</td>\n",
       "      <td>small_business</td>\n",
       "      <td>IL</td>\n",
       "      <td>36 months</td>\n",
       "      <td>15.96%</td>\n",
       "      <td>Fully Paid</td>\n",
       "    </tr>\n",
       "    <tr>\n",
       "      <th>3</th>\n",
       "      <td>1076863</td>\n",
       "      <td>C</td>\n",
       "      <td>C1</td>\n",
       "      <td>49200.0</td>\n",
       "      <td>10000</td>\n",
       "      <td>RENT</td>\n",
       "      <td>Source Verified</td>\n",
       "      <td>10+ years</td>\n",
       "      <td>other</td>\n",
       "      <td>CA</td>\n",
       "      <td>36 months</td>\n",
       "      <td>13.49%</td>\n",
       "      <td>Fully Paid</td>\n",
       "    </tr>\n",
       "    <tr>\n",
       "      <th>4</th>\n",
       "      <td>1075358</td>\n",
       "      <td>B</td>\n",
       "      <td>B5</td>\n",
       "      <td>80000.0</td>\n",
       "      <td>3000</td>\n",
       "      <td>RENT</td>\n",
       "      <td>Source Verified</td>\n",
       "      <td>1 year</td>\n",
       "      <td>other</td>\n",
       "      <td>OR</td>\n",
       "      <td>60 months</td>\n",
       "      <td>12.69%</td>\n",
       "      <td>Current</td>\n",
       "    </tr>\n",
       "  </tbody>\n",
       "</table>\n",
       "</div>"
      ],
      "text/plain": [
       "        id grade sub_grade  annual_inc  loan_amnt home_ownership  \\\n",
       "0  1077501     B        B2     24000.0       5000           RENT   \n",
       "1  1077430     C        C4     30000.0       2500           RENT   \n",
       "2  1077175     C        C5     12252.0       2400           RENT   \n",
       "3  1076863     C        C1     49200.0      10000           RENT   \n",
       "4  1075358     B        B5     80000.0       3000           RENT   \n",
       "\n",
       "  verification_status emp_length         purpose addr_state        term  \\\n",
       "0            Verified  10+ years     credit_card         AZ   36 months   \n",
       "1     Source Verified   < 1 year             car         GA   60 months   \n",
       "2        Not Verified  10+ years  small_business         IL   36 months   \n",
       "3     Source Verified  10+ years           other         CA   36 months   \n",
       "4     Source Verified     1 year           other         OR   60 months   \n",
       "\n",
       "  int_rate  loan_status  \n",
       "0   10.65%   Fully Paid  \n",
       "1   15.27%  Charged Off  \n",
       "2   15.96%   Fully Paid  \n",
       "3   13.49%   Fully Paid  \n",
       "4   12.69%      Current  "
      ]
     },
     "execution_count": 6,
     "metadata": {},
     "output_type": "execute_result"
    }
   ],
   "source": [
    "df_new.head()"
   ]
  },
  {
   "cell_type": "code",
   "execution_count": 7,
   "metadata": {},
   "outputs": [
    {
     "data": {
      "text/plain": [
       "(39717, 13)"
      ]
     },
     "execution_count": 7,
     "metadata": {},
     "output_type": "execute_result"
    }
   ],
   "source": [
    "df_new.shape"
   ]
  },
  {
   "cell_type": "markdown",
   "metadata": {},
   "source": [
    "### Data cleaning and wrangling"
   ]
  },
  {
   "cell_type": "code",
   "execution_count": 8,
   "metadata": {
    "scrolled": true
   },
   "outputs": [
    {
     "data": {
      "text/plain": [
       "id                     False\n",
       "grade                  False\n",
       "sub_grade              False\n",
       "annual_inc             False\n",
       "loan_amnt              False\n",
       "home_ownership         False\n",
       "verification_status    False\n",
       "emp_length              True\n",
       "purpose                False\n",
       "addr_state             False\n",
       "term                   False\n",
       "int_rate               False\n",
       "loan_status            False\n",
       "dtype: bool"
      ]
     },
     "execution_count": 8,
     "metadata": {},
     "output_type": "execute_result"
    }
   ],
   "source": [
    "df_new.isnull().any()"
   ]
  },
  {
   "cell_type": "code",
   "execution_count": 9,
   "metadata": {},
   "outputs": [
    {
     "data": {
      "text/plain": [
       "1075"
      ]
     },
     "execution_count": 9,
     "metadata": {},
     "output_type": "execute_result"
    }
   ],
   "source": [
    "#Checking duplicates\n",
    "sum(df_new['emp_length'].isnull())"
   ]
  },
  {
   "cell_type": "code",
   "execution_count": 10,
   "metadata": {},
   "outputs": [],
   "source": [
    "#removing duplicates\n",
    "df_new.dropna(inplace = True)"
   ]
  },
  {
   "cell_type": "code",
   "execution_count": 11,
   "metadata": {},
   "outputs": [
    {
     "data": {
      "text/plain": [
       "38642"
      ]
     },
     "execution_count": 11,
     "metadata": {},
     "output_type": "execute_result"
    }
   ],
   "source": [
    "df_new['emp_length'].shape[0]"
   ]
  },
  {
   "cell_type": "code",
   "execution_count": 12,
   "metadata": {},
   "outputs": [
    {
     "data": {
      "text/plain": [
       "(38642, 13)"
      ]
     },
     "execution_count": 12,
     "metadata": {},
     "output_type": "execute_result"
    }
   ],
   "source": [
    "#check\n",
    "df_new.shape"
   ]
  },
  {
   "cell_type": "code",
   "execution_count": 13,
   "metadata": {},
   "outputs": [
    {
     "data": {
      "text/plain": [
       "True"
      ]
     },
     "execution_count": 13,
     "metadata": {},
     "output_type": "execute_result"
    }
   ],
   "source": [
    "#Check\n",
    "39717 - 1075 ==38642"
   ]
  },
  {
   "cell_type": "code",
   "execution_count": 14,
   "metadata": {
    "scrolled": false
   },
   "outputs": [
    {
     "data": {
      "text/plain": [
       "id                       int64\n",
       "grade                   object\n",
       "sub_grade               object\n",
       "annual_inc             float64\n",
       "loan_amnt                int64\n",
       "home_ownership          object\n",
       "verification_status     object\n",
       "emp_length              object\n",
       "purpose                 object\n",
       "addr_state              object\n",
       "term                    object\n",
       "int_rate                object\n",
       "loan_status             object\n",
       "dtype: object"
      ]
     },
     "execution_count": 14,
     "metadata": {},
     "output_type": "execute_result"
    }
   ],
   "source": [
    "df_new.dtypes"
   ]
  },
  {
   "cell_type": "markdown",
   "metadata": {},
   "source": [
    "#### Problem : Loan amount term is in object converting it into integer for easy computation"
   ]
  },
  {
   "cell_type": "code",
   "execution_count": 15,
   "metadata": {},
   "outputs": [],
   "source": [
    "#Code\n",
    "df_new['term'] = df_new['term'].str.extract('(\\d+)').astype(int) "
   ]
  },
  {
   "cell_type": "code",
   "execution_count": 16,
   "metadata": {},
   "outputs": [
    {
     "data": {
      "text/plain": [
       "27918    60\n",
       "Name: term, dtype: int32"
      ]
     },
     "execution_count": 16,
     "metadata": {},
     "output_type": "execute_result"
    }
   ],
   "source": [
    "#Test\n",
    "df_new['term'].sample()"
   ]
  },
  {
   "cell_type": "markdown",
   "metadata": {},
   "source": [
    "#### Problem interest rate is in object datatype converting it into int for better computations."
   ]
  },
  {
   "cell_type": "code",
   "execution_count": 17,
   "metadata": {},
   "outputs": [],
   "source": [
    "#Code\n",
    "df_new['int_rate'] = df_new['int_rate'].str.extract('(\\d+)').astype(int)"
   ]
  },
  {
   "cell_type": "code",
   "execution_count": 18,
   "metadata": {},
   "outputs": [
    {
     "data": {
      "text/plain": [
       "32331    11\n",
       "Name: int_rate, dtype: int32"
      ]
     },
     "execution_count": 18,
     "metadata": {},
     "output_type": "execute_result"
    }
   ],
   "source": [
    "#Test\n",
    "df_new['int_rate'].sample()"
   ]
  },
  {
   "cell_type": "markdown",
   "metadata": {},
   "source": [
    "#### Problem emp_length is  in object datatype converting it into int for better computations.\n",
    "- Note:Employment length in years. Possible values are between 0 and 10 where 0 means less than one year and 10 means ten or more years. "
   ]
  },
  {
   "cell_type": "code",
   "execution_count": 19,
   "metadata": {},
   "outputs": [],
   "source": [
    "df_new['emp_length'] = df_new['emp_length'].str.extract('(\\d+)').astype(int)"
   ]
  },
  {
   "cell_type": "code",
   "execution_count": 20,
   "metadata": {},
   "outputs": [
    {
     "data": {
      "text/plain": [
       "21336    3\n",
       "Name: emp_length, dtype: int32"
      ]
     },
     "execution_count": 20,
     "metadata": {},
     "output_type": "execute_result"
    }
   ],
   "source": [
    "# check\n",
    "df_new['emp_length'].sample()"
   ]
  },
  {
   "cell_type": "code",
   "execution_count": 21,
   "metadata": {},
   "outputs": [
    {
     "name": "stdout",
     "output_type": "stream",
     "text": [
      "<class 'pandas.core.frame.DataFrame'>\n",
      "Int64Index: 38642 entries, 0 to 39716\n",
      "Data columns (total 13 columns):\n",
      "id                     38642 non-null int64\n",
      "grade                  38642 non-null object\n",
      "sub_grade              38642 non-null object\n",
      "annual_inc             38642 non-null float64\n",
      "loan_amnt              38642 non-null int64\n",
      "home_ownership         38642 non-null object\n",
      "verification_status    38642 non-null object\n",
      "emp_length             38642 non-null int32\n",
      "purpose                38642 non-null object\n",
      "addr_state             38642 non-null object\n",
      "term                   38642 non-null int32\n",
      "int_rate               38642 non-null int32\n",
      "loan_status            38642 non-null object\n",
      "dtypes: float64(1), int32(3), int64(2), object(7)\n",
      "memory usage: 3.7+ MB\n"
     ]
    }
   ],
   "source": [
    "df_new.info()"
   ]
  },
  {
   "cell_type": "markdown",
   "metadata": {},
   "source": [
    "**Data is now perfectly ready for performing analysis**"
   ]
  },
  {
   "cell_type": "markdown",
   "metadata": {},
   "source": [
    "# Data analysis"
   ]
  },
  {
   "cell_type": "markdown",
   "metadata": {},
   "source": [
    "### Univariate EDA"
   ]
  },
  {
   "cell_type": "code",
   "execution_count": 22,
   "metadata": {},
   "outputs": [
    {
     "name": "stdout",
     "output_type": "stream",
     "text": [
      "<class 'pandas.core.frame.DataFrame'>\n",
      "Int64Index: 38642 entries, 0 to 39716\n",
      "Data columns (total 13 columns):\n",
      "id                     38642 non-null int64\n",
      "grade                  38642 non-null object\n",
      "sub_grade              38642 non-null object\n",
      "annual_inc             38642 non-null float64\n",
      "loan_amnt              38642 non-null int64\n",
      "home_ownership         38642 non-null object\n",
      "verification_status    38642 non-null object\n",
      "emp_length             38642 non-null int32\n",
      "purpose                38642 non-null object\n",
      "addr_state             38642 non-null object\n",
      "term                   38642 non-null int32\n",
      "int_rate               38642 non-null int32\n",
      "loan_status            38642 non-null object\n",
      "dtypes: float64(1), int32(3), int64(2), object(7)\n",
      "memory usage: 3.7+ MB\n"
     ]
    }
   ],
   "source": [
    "df_new.info()"
   ]
  },
  {
   "cell_type": "code",
   "execution_count": 23,
   "metadata": {},
   "outputs": [
    {
     "data": {
      "text/plain": [
       "B    0.302417\n",
       "A    0.250893\n",
       "C    0.205114\n",
       "D    0.134439\n",
       "E    0.072331\n",
       "F    0.026655\n",
       "G    0.008152\n",
       "Name: grade, dtype: float64"
      ]
     },
     "execution_count": 23,
     "metadata": {},
     "output_type": "execute_result"
    }
   ],
   "source": [
    "df_new['grade'].value_counts(normalize = True)"
   ]
  },
  {
   "cell_type": "code",
   "execution_count": 24,
   "metadata": {
    "scrolled": true
   },
   "outputs": [
    {
     "data": {
      "image/png": "[encoded data removed]",
      "text/plain": [
       "<Figure size 432x288 with 1 Axes>"
      ]
     },
     "metadata": {},
     "output_type": "display_data"
    }
   ],
   "source": [
    "sb.countplot(df_new['grade'],order =  df_new.grade.value_counts().index );"
   ]
  },
  {
   "cell_type": "code",
   "execution_count": 25,
   "metadata": {},
   "outputs": [
    {
     "data": {
      "text/plain": [
       "B3    2917\n",
       "A4    2886\n",
       "A5    2742\n",
       "B5    2704\n",
       "B4    2512\n",
       "C1    2136\n",
       "B2    2057\n",
       "C2    2011\n",
       "B1    1830\n",
       "A3    1810\n",
       "C3    1529\n",
       "A2    1508\n",
       "D2    1348\n",
       "C4    1236\n",
       "C5    1186\n",
       "D3    1173\n",
       "A1    1139\n",
       "D4     981\n",
       "D1     931\n",
       "D5     874\n",
       "E1     763\n",
       "E2     656\n",
       "E3     553\n",
       "E4     454\n",
       "E5     416\n",
       "F1     329\n",
       "F2     249\n",
       "F3     185\n",
       "F4     168\n",
       "F5     118\n",
       "G1     104\n",
       "G2      78\n",
       "G4      56\n",
       "G3      48\n",
       "G5      30\n",
       "Name: sub_grade, dtype: int64"
      ]
     },
     "execution_count": 25,
     "metadata": {},
     "output_type": "execute_result"
    }
   ],
   "source": [
    "#Subgrade\n",
    "df.sub_grade.value_counts()"
   ]
  },
  {
   "cell_type": "code",
   "execution_count": 26,
   "metadata": {},
   "outputs": [
    {
     "data": {
      "image/png": "[encoded data removed]",
      "text/plain": [
       "<Figure size 1500x700 with 1 Axes>"
      ]
     },
     "metadata": {},
     "output_type": "display_data"
    }
   ],
   "source": [
    "plt.figure(figsize=(15,7),dpi=100)\n",
    "base_color = sb.color_palette()[0]\n",
    "sb.countplot(y = df_new['sub_grade'] , order = df_new.sub_grade.value_counts().index);\n",
    "\n"
   ]
  },
  {
   "cell_type": "code",
   "execution_count": null,
   "metadata": {},
   "outputs": [],
   "source": []
  },
  {
   "cell_type": "code",
   "execution_count": 27,
   "metadata": {},
   "outputs": [
    {
     "data": {
      "text/plain": [
       "(0, 200000)"
      ]
     },
     "execution_count": 27,
     "metadata": {},
     "output_type": "execute_result"
    },
    {
     "data": {
      "image/png": "[encoded data removed]",
      "text/plain": [
       "<Figure size 1000x500 with 1 Axes>"
      ]
     },
     "metadata": {},
     "output_type": "display_data"
    }
   ],
   "source": [
    "#annual income\n",
    "plt.figure(figsize=(10,5),dpi=100)\n",
    "sb.boxplot(df_new['annual_inc'])\n",
    "plt.xlim(0,200000)"
   ]
  },
  {
   "cell_type": "code",
   "execution_count": 28,
   "metadata": {},
   "outputs": [
    {
     "data": {
      "image/png": "[encoded data removed]",
      "text/plain": [
       "<Figure size 1000x500 with 1 Axes>"
      ]
     },
     "metadata": {},
     "output_type": "display_data"
    },
    {
     "data": {
      "image/png": "[encoded data removed]",
      "text/plain": [
       "<Figure size 1000x500 with 1 Axes>"
      ]
     },
     "metadata": {},
     "output_type": "display_data"
    }
   ],
   "source": [
    "#for loan amount\n",
    "from matplotlib.pyplot import figure\n",
    "\n",
    "plt.figure(figsize=(10,5),dpi=100)\n",
    "plt.subplot(2,1,1)\n",
    "plt.hist(df_new['loan_amnt'],rwidth=0.9,bins=40)\n",
    "plt.show()\n",
    "\n",
    "plt.figure(figsize=(10,5),dpi=100)\n",
    "plt.subplot(2,1,2)\n",
    "sb.boxplot(df_new['loan_amnt'])\n",
    "plt.show()"
   ]
  },
  {
   "cell_type": "markdown",
   "metadata": {},
   "source": [
    "### 1/4th of data lies between 500 Rs to 5500 Rs and 15000 Rs to 29000 Rs and most of the data lies between 5500Rs to 15000Rs.\n",
    "- Mean - 11,291.61\n",
    "- Mode - 10,000"
   ]
  },
  {
   "cell_type": "code",
   "execution_count": 29,
   "metadata": {},
   "outputs": [
    {
     "data": {
      "text/plain": [
       "500"
      ]
     },
     "execution_count": 29,
     "metadata": {},
     "output_type": "execute_result"
    }
   ],
   "source": [
    "df_new['loan_amnt'].min()"
   ]
  },
  {
   "cell_type": "code",
   "execution_count": 30,
   "metadata": {
    "scrolled": true
   },
   "outputs": [
    {
     "data": {
      "text/plain": [
       "<matplotlib.axes._subplots.AxesSubplot at 0x1d0a70f7a90>"
      ]
     },
     "execution_count": 30,
     "metadata": {},
     "output_type": "execute_result"
    },
    {
     "data": {
      "image/png": "[encoded data removed]",
      "text/plain": [
       "<Figure size 800x300 with 1 Axes>"
      ]
     },
     "metadata": {},
     "output_type": "display_data"
    }
   ],
   "source": [
    "# Home Ownership\n",
    "plt.figure(figsize=(8,3),dpi=100)\n",
    "sb.countplot( y = df_new['home_ownership'], order = df_new['home_ownership'].value_counts().index[:])"
   ]
  },
  {
   "cell_type": "code",
   "execution_count": 31,
   "metadata": {
    "scrolled": true
   },
   "outputs": [
    {
     "data": {
      "text/plain": [
       "RENT        0.478443\n",
       "MORTGAGE    0.445422\n",
       "OWN         0.073521\n",
       "OTHER       0.002536\n",
       "NONE        0.000078\n",
       "Name: home_ownership, dtype: float64"
      ]
     },
     "execution_count": 31,
     "metadata": {},
     "output_type": "execute_result"
    }
   ],
   "source": [
    "df_new['home_ownership'].value_counts(normalize = True)"
   ]
  },
  {
   "cell_type": "code",
   "execution_count": 32,
   "metadata": {},
   "outputs": [
    {
     "data": {
      "text/plain": [
       "<matplotlib.axes._subplots.AxesSubplot at 0x1d0a7e5d780>"
      ]
     },
     "execution_count": 32,
     "metadata": {},
     "output_type": "execute_result"
    },
    {
     "data": {
      "image/png": "[encoded data removed]",
      "text/plain": [
       "<Figure size 800x300 with 1 Axes>"
      ]
     },
     "metadata": {},
     "output_type": "display_data"
    }
   ],
   "source": [
    "plt.figure(figsize=(8,3),dpi=100)\n",
    "sb.countplot(df_new['verification_status'] , order = df_new['verification_status'].value_counts().index)"
   ]
  },
  {
   "cell_type": "code",
   "execution_count": 33,
   "metadata": {},
   "outputs": [
    {
     "data": {
      "text/plain": [
       "<matplotlib.axes._subplots.AxesSubplot at 0x1d0a81b4748>"
      ]
     },
     "execution_count": 33,
     "metadata": {},
     "output_type": "execute_result"
    },
    {
     "data": {
      "image/png": "[encoded data removed]",
      "text/plain": [
       "<Figure size 1000x500 with 1 Axes>"
      ]
     },
     "metadata": {},
     "output_type": "display_data"
    }
   ],
   "source": [
    "#emp length\n",
    "plt.figure(figsize=(10,5),dpi=100)\n",
    "base_color = sb.color_palette()[0]\n",
    "sb.countplot(df_new['emp_length'],color = base_color, order = df_new['emp_length'].value_counts().index)"
   ]
  },
  {
   "cell_type": "code",
   "execution_count": 34,
   "metadata": {},
   "outputs": [
    {
     "data": {
      "image/png": "[encoded data removed]",
      "text/plain": [
       "<Figure size 800x300 with 1 Axes>"
      ]
     },
     "metadata": {},
     "output_type": "display_data"
    }
   ],
   "source": [
    "# Purpose\n",
    "plt.figure(figsize=(8,3),dpi=100)\n",
    "sb.countplot(y = df_new['purpose'], order = df_new['purpose'].value_counts().index);"
   ]
  },
  {
   "cell_type": "code",
   "execution_count": 35,
   "metadata": {},
   "outputs": [
    {
     "data": {
      "text/plain": [
       "CA    6911\n",
       "NY    3709\n",
       "FL    2776\n",
       "TX    2672\n",
       "NJ    1825\n",
       "IL    1488\n",
       "PA    1483\n",
       "VA    1378\n",
       "GA    1357\n",
       "MA    1310\n",
       "OH    1190\n",
       "MD    1030\n",
       "AZ     834\n",
       "WA     805\n",
       "CO     770\n",
       "NC     761\n",
       "CT     731\n",
       "MI     686\n",
       "MO     662\n",
       "MN     593\n",
       "NV     482\n",
       "SC     464\n",
       "WI     446\n",
       "OR     437\n",
       "AL     434\n",
       "LA     426\n",
       "KY     321\n",
       "OK     293\n",
       "KS     260\n",
       "UT     252\n",
       "AR     236\n",
       "DC     214\n",
       "RI     196\n",
       "NM     183\n",
       "HI     170\n",
       "WV     168\n",
       "NH     161\n",
       "DE     111\n",
       "WY      79\n",
       "MT      79\n",
       "AK      78\n",
       "SD      63\n",
       "VT      54\n",
       "MS      19\n",
       "TN      17\n",
       "IN       9\n",
       "ID       6\n",
       "IA       5\n",
       "NE       5\n",
       "ME       3\n",
       "Name: addr_state, dtype: int64"
      ]
     },
     "execution_count": 35,
     "metadata": {},
     "output_type": "execute_result"
    }
   ],
   "source": [
    "df_new['addr_state'].value_counts()"
   ]
  },
  {
   "cell_type": "code",
   "execution_count": 36,
   "metadata": {},
   "outputs": [
    {
     "data": {
      "text/plain": [
       "<matplotlib.axes._subplots.AxesSubplot at 0x1d0a7eb9198>"
      ]
     },
     "execution_count": 36,
     "metadata": {},
     "output_type": "execute_result"
    },
    {
     "data": {
      "image/png": "[encoded data removed]",
      "text/plain": [
       "<Figure size 432x288 with 1 Axes>"
      ]
     },
     "metadata": {},
     "output_type": "display_data"
    }
   ],
   "source": [
    "# Term\n",
    "sb.countplot(df_new['term'])"
   ]
  },
  {
   "cell_type": "code",
   "execution_count": 37,
   "metadata": {},
   "outputs": [
    {
     "data": {
      "text/plain": [
       "<matplotlib.axes._subplots.AxesSubplot at 0x1d0a7259278>"
      ]
     },
     "execution_count": 37,
     "metadata": {},
     "output_type": "execute_result"
    },
    {
     "data": {
      "image/png": "[encoded data removed]",
      "text/plain": [
       "<Figure size 1000x400 with 1 Axes>"
      ]
     },
     "metadata": {},
     "output_type": "display_data"
    }
   ],
   "source": [
    "#Interest rate\n",
    "plt.figure(figsize=(10,4),dpi=100)\n",
    "sb.countplot( y = df_new['int_rate'], order = df_new['int_rate'].value_counts().index)"
   ]
  },
  {
   "cell_type": "code",
   "execution_count": 38,
   "metadata": {},
   "outputs": [
    {
     "data": {
      "text/plain": [
       "<matplotlib.axes._subplots.AxesSubplot at 0x1d0a7130438>"
      ]
     },
     "execution_count": 38,
     "metadata": {},
     "output_type": "execute_result"
    },
    {
     "data": {
      "image/png": "[encoded data removed]",
      "text/plain": [
       "<Figure size 432x288 with 1 Axes>"
      ]
     },
     "metadata": {},
     "output_type": "display_data"
    }
   ],
   "source": [
    "sb.countplot(df_new['loan_status'])"
   ]
  },
  {
   "cell_type": "markdown",
   "metadata": {},
   "source": [
    "## Bivariate Exploratory Data Analysis"
   ]
  },
  {
   "cell_type": "markdown",
   "metadata": {},
   "source": [
    "#### Focusing More on Loan status : Charged off"
   ]
  },
  {
   "cell_type": "code",
   "execution_count": 39,
   "metadata": {},
   "outputs": [],
   "source": [
    "defaulted = df_new[df_new['loan_status'] == \"Charged Off\"]"
   ]
  },
  {
   "cell_type": "code",
   "execution_count": 40,
   "metadata": {},
   "outputs": [
    {
     "data": {
      "text/html": [
       "<div>\n",
       "<style scoped>\n",
       "    .dataframe tbody tr th:only-of-type {\n",
       "        vertical-align: middle;\n",
       "    }\n",
       "\n",
       "    .dataframe tbody tr th {\n",
       "        vertical-align: top;\n",
       "    }\n",
       "\n",
       "    .dataframe thead th {\n",
       "        text-align: right;\n",
       "    }\n",
       "</style>\n",
       "<table border=\"1\" class=\"dataframe\">\n",
       "  <thead>\n",
       "    <tr style=\"text-align: right;\">\n",
       "      <th></th>\n",
       "      <th>id</th>\n",
       "      <th>grade</th>\n",
       "      <th>sub_grade</th>\n",
       "      <th>annual_inc</th>\n",
       "      <th>loan_amnt</th>\n",
       "      <th>home_ownership</th>\n",
       "      <th>verification_status</th>\n",
       "      <th>emp_length</th>\n",
       "      <th>purpose</th>\n",
       "      <th>addr_state</th>\n",
       "      <th>term</th>\n",
       "      <th>int_rate</th>\n",
       "      <th>loan_status</th>\n",
       "    </tr>\n",
       "  </thead>\n",
       "  <tbody>\n",
       "    <tr>\n",
       "      <th>1</th>\n",
       "      <td>1077430</td>\n",
       "      <td>C</td>\n",
       "      <td>C4</td>\n",
       "      <td>30000.0</td>\n",
       "      <td>2500</td>\n",
       "      <td>RENT</td>\n",
       "      <td>Source Verified</td>\n",
       "      <td>1</td>\n",
       "      <td>car</td>\n",
       "      <td>GA</td>\n",
       "      <td>60</td>\n",
       "      <td>15</td>\n",
       "      <td>Charged Off</td>\n",
       "    </tr>\n",
       "    <tr>\n",
       "      <th>8</th>\n",
       "      <td>1071795</td>\n",
       "      <td>F</td>\n",
       "      <td>F2</td>\n",
       "      <td>40000.0</td>\n",
       "      <td>5600</td>\n",
       "      <td>OWN</td>\n",
       "      <td>Source Verified</td>\n",
       "      <td>4</td>\n",
       "      <td>small_business</td>\n",
       "      <td>CA</td>\n",
       "      <td>60</td>\n",
       "      <td>21</td>\n",
       "      <td>Charged Off</td>\n",
       "    </tr>\n",
       "    <tr>\n",
       "      <th>9</th>\n",
       "      <td>1071570</td>\n",
       "      <td>B</td>\n",
       "      <td>B5</td>\n",
       "      <td>15000.0</td>\n",
       "      <td>5375</td>\n",
       "      <td>RENT</td>\n",
       "      <td>Verified</td>\n",
       "      <td>1</td>\n",
       "      <td>other</td>\n",
       "      <td>TX</td>\n",
       "      <td>60</td>\n",
       "      <td>12</td>\n",
       "      <td>Charged Off</td>\n",
       "    </tr>\n",
       "    <tr>\n",
       "      <th>12</th>\n",
       "      <td>1064687</td>\n",
       "      <td>C</td>\n",
       "      <td>C1</td>\n",
       "      <td>30000.0</td>\n",
       "      <td>9000</td>\n",
       "      <td>RENT</td>\n",
       "      <td>Source Verified</td>\n",
       "      <td>1</td>\n",
       "      <td>debt_consolidation</td>\n",
       "      <td>VA</td>\n",
       "      <td>36</td>\n",
       "      <td>13</td>\n",
       "      <td>Charged Off</td>\n",
       "    </tr>\n",
       "    <tr>\n",
       "      <th>14</th>\n",
       "      <td>1069057</td>\n",
       "      <td>B</td>\n",
       "      <td>B2</td>\n",
       "      <td>100000.0</td>\n",
       "      <td>10000</td>\n",
       "      <td>RENT</td>\n",
       "      <td>Source Verified</td>\n",
       "      <td>3</td>\n",
       "      <td>other</td>\n",
       "      <td>CA</td>\n",
       "      <td>36</td>\n",
       "      <td>10</td>\n",
       "      <td>Charged Off</td>\n",
       "    </tr>\n",
       "  </tbody>\n",
       "</table>\n",
       "</div>"
      ],
      "text/plain": [
       "         id grade sub_grade  annual_inc  loan_amnt home_ownership  \\\n",
       "1   1077430     C        C4     30000.0       2500           RENT   \n",
       "8   1071795     F        F2     40000.0       5600            OWN   \n",
       "9   1071570     B        B5     15000.0       5375           RENT   \n",
       "12  1064687     C        C1     30000.0       9000           RENT   \n",
       "14  1069057     B        B2    100000.0      10000           RENT   \n",
       "\n",
       "   verification_status  emp_length             purpose addr_state  term  \\\n",
       "1      Source Verified           1                 car         GA    60   \n",
       "8      Source Verified           4      small_business         CA    60   \n",
       "9             Verified           1               other         TX    60   \n",
       "12     Source Verified           1  debt_consolidation         VA    36   \n",
       "14     Source Verified           3               other         CA    36   \n",
       "\n",
       "    int_rate  loan_status  \n",
       "1         15  Charged Off  \n",
       "8         21  Charged Off  \n",
       "9         12  Charged Off  \n",
       "12        13  Charged Off  \n",
       "14        10  Charged Off  "
      ]
     },
     "execution_count": 40,
     "metadata": {},
     "output_type": "execute_result"
    }
   ],
   "source": [
    "defaulted.head()"
   ]
  },
  {
   "cell_type": "code",
   "execution_count": 41,
   "metadata": {},
   "outputs": [
    {
     "data": {
      "text/html": [
       "<div>\n",
       "<style scoped>\n",
       "    .dataframe tbody tr th:only-of-type {\n",
       "        vertical-align: middle;\n",
       "    }\n",
       "\n",
       "    .dataframe tbody tr th {\n",
       "        vertical-align: top;\n",
       "    }\n",
       "\n",
       "    .dataframe thead th {\n",
       "        text-align: right;\n",
       "    }\n",
       "</style>\n",
       "<table border=\"1\" class=\"dataframe\">\n",
       "  <thead>\n",
       "    <tr style=\"text-align: right;\">\n",
       "      <th></th>\n",
       "      <th>id</th>\n",
       "      <th>annual_inc</th>\n",
       "      <th>loan_amnt</th>\n",
       "      <th>emp_length</th>\n",
       "      <th>term</th>\n",
       "      <th>int_rate</th>\n",
       "    </tr>\n",
       "  </thead>\n",
       "  <tbody>\n",
       "    <tr>\n",
       "      <th>count</th>\n",
       "      <td>5.399000e+03</td>\n",
       "      <td>5.399000e+03</td>\n",
       "      <td>5399.000000</td>\n",
       "      <td>5399.000000</td>\n",
       "      <td>5399.000000</td>\n",
       "      <td>5399.000000</td>\n",
       "    </tr>\n",
       "    <tr>\n",
       "      <th>mean</th>\n",
       "      <td>6.955903e+05</td>\n",
       "      <td>6.333111e+04</td>\n",
       "      <td>12244.077607</td>\n",
       "      <td>5.199296</td>\n",
       "      <td>46.339693</td>\n",
       "      <td>13.323578</td>\n",
       "    </tr>\n",
       "    <tr>\n",
       "      <th>std</th>\n",
       "      <td>2.173751e+05</td>\n",
       "      <td>4.810356e+04</td>\n",
       "      <td>8086.515636</td>\n",
       "      <td>3.445429</td>\n",
       "      <td>11.885687</td>\n",
       "      <td>3.685831</td>\n",
       "    </tr>\n",
       "    <tr>\n",
       "      <th>min</th>\n",
       "      <td>6.141900e+04</td>\n",
       "      <td>4.080000e+03</td>\n",
       "      <td>900.000000</td>\n",
       "      <td>1.000000</td>\n",
       "      <td>36.000000</td>\n",
       "      <td>5.000000</td>\n",
       "    </tr>\n",
       "    <tr>\n",
       "      <th>25%</th>\n",
       "      <td>5.273770e+05</td>\n",
       "      <td>3.824467e+04</td>\n",
       "      <td>6000.000000</td>\n",
       "      <td>2.000000</td>\n",
       "      <td>36.000000</td>\n",
       "      <td>11.000000</td>\n",
       "    </tr>\n",
       "    <tr>\n",
       "      <th>50%</th>\n",
       "      <td>6.961880e+05</td>\n",
       "      <td>5.400000e+04</td>\n",
       "      <td>10000.000000</td>\n",
       "      <td>5.000000</td>\n",
       "      <td>36.000000</td>\n",
       "      <td>13.000000</td>\n",
       "    </tr>\n",
       "    <tr>\n",
       "      <th>75%</th>\n",
       "      <td>8.535225e+05</td>\n",
       "      <td>7.500000e+04</td>\n",
       "      <td>17000.000000</td>\n",
       "      <td>9.000000</td>\n",
       "      <td>60.000000</td>\n",
       "      <td>16.000000</td>\n",
       "    </tr>\n",
       "    <tr>\n",
       "      <th>max</th>\n",
       "      <td>1.077430e+06</td>\n",
       "      <td>1.250000e+06</td>\n",
       "      <td>35000.000000</td>\n",
       "      <td>10.000000</td>\n",
       "      <td>60.000000</td>\n",
       "      <td>24.000000</td>\n",
       "    </tr>\n",
       "  </tbody>\n",
       "</table>\n",
       "</div>"
      ],
      "text/plain": [
       "                 id    annual_inc     loan_amnt   emp_length         term  \\\n",
       "count  5.399000e+03  5.399000e+03   5399.000000  5399.000000  5399.000000   \n",
       "mean   6.955903e+05  6.333111e+04  12244.077607     5.199296    46.339693   \n",
       "std    2.173751e+05  4.810356e+04   8086.515636     3.445429    11.885687   \n",
       "min    6.141900e+04  4.080000e+03    900.000000     1.000000    36.000000   \n",
       "25%    5.273770e+05  3.824467e+04   6000.000000     2.000000    36.000000   \n",
       "50%    6.961880e+05  5.400000e+04  10000.000000     5.000000    36.000000   \n",
       "75%    8.535225e+05  7.500000e+04  17000.000000     9.000000    60.000000   \n",
       "max    1.077430e+06  1.250000e+06  35000.000000    10.000000    60.000000   \n",
       "\n",
       "          int_rate  \n",
       "count  5399.000000  \n",
       "mean     13.323578  \n",
       "std       3.685831  \n",
       "min       5.000000  \n",
       "25%      11.000000  \n",
       "50%      13.000000  \n",
       "75%      16.000000  \n",
       "max      24.000000  "
      ]
     },
     "execution_count": 41,
     "metadata": {},
     "output_type": "execute_result"
    }
   ],
   "source": [
    "defaulted.describe()"
   ]
  },
  {
   "cell_type": "code",
   "execution_count": 42,
   "metadata": {
    "scrolled": true
   },
   "outputs": [
    {
     "data": {
      "image/png": "[encoded data removed]",
      "text/plain": [
       "<Figure size 800x400 with 1 Axes>"
      ]
     },
     "metadata": {},
     "output_type": "display_data"
    }
   ],
   "source": [
    "#sb.distplot(defaulted['annual_inc'])\n",
    "plt.figure(figsize=(8,4),dpi=100)\n",
    "plt.hist(defaulted['annual_inc'],rwidth=0.9,bins=80)\n",
    "plt.xlim(0,250000)\n",
    "plt.xticks([0,20000,40000,60000,80000,100000])\n",
    "plt.show()"
   ]
  },
  {
   "cell_type": "code",
   "execution_count": 43,
   "metadata": {},
   "outputs": [
    {
     "data": {
      "image/png": "[encoded data removed]",
      "text/plain": [
       "<Figure size 432x288 with 1 Axes>"
      ]
     },
     "metadata": {},
     "output_type": "display_data"
    }
   ],
   "source": [
    "#ANNUAL INCOME\n",
    "sb.boxplot(defaulted['annual_inc'])\n",
    "plt.xlim(0,200000);\n",
    "plt.xticks([0,25000,50000,75000,100000,125000,],['0','25k','50k','75k','1Lakh','1Lakh_25k'],rotation = 90);"
   ]
  },
  {
   "cell_type": "code",
   "execution_count": 44,
   "metadata": {},
   "outputs": [
    {
     "name": "stdout",
     "output_type": "stream",
     "text": [
      "Min: 4080.000\n",
      "Q1: 38244.665\n",
      "Median: 54000.000\n",
      "Q3: 75000.000\n",
      "Max: 1250000.000\n"
     ]
    }
   ],
   "source": [
    "#More accuracte\n",
    "from numpy import percentile\n",
    "from numpy.random import rand\n",
    "# generate data sample\n",
    "data = defaulted['annual_inc']\n",
    "# calculate quartiles\n",
    "quartiles = percentile(data, [25, 50, 75])\n",
    "# calculate min/max\n",
    "data_min, data_max = data.min(), data.max()\n",
    "# print 5-number summary\n",
    "print('Min: %.3f' % data_min)\n",
    "print('Q1: %.3f' % quartiles[0])\n",
    "print('Median: %.3f' % quartiles[1])\n",
    "print('Q3: %.3f' % quartiles[2])\n",
    "print('Max: %.3f' % data_max)"
   ]
  },
  {
   "cell_type": "markdown",
   "metadata": {},
   "source": [
    "### Result  :\n",
    "- 50% of the data lies within 38,244Rs and 75,000Rs i.e ***Loan id which has approx annual_inc between 38k to 75k to 82k fail to pay the loan***"
   ]
  },
  {
   "cell_type": "code",
   "execution_count": 45,
   "metadata": {},
   "outputs": [
    {
     "data": {
      "text/plain": [
       "<matplotlib.axes._subplots.AxesSubplot at 0x1d0a73dc908>"
      ]
     },
     "execution_count": 45,
     "metadata": {},
     "output_type": "execute_result"
    },
    {
     "data": {
      "image/png": "[encoded data removed]",
      "text/plain": [
       "<Figure size 432x288 with 1 Axes>"
      ]
     },
     "metadata": {},
     "output_type": "display_data"
    }
   ],
   "source": [
    "# For Grade\n",
    "(defaulted.grade.value_counts(sort = True) * 100/df_new.grade.value_counts(sort = True)).plot.bar()"
   ]
  },
  {
   "cell_type": "code",
   "execution_count": 46,
   "metadata": {},
   "outputs": [
    {
     "data": {
      "text/plain": [
       "A     5.755544\n",
       "B    11.595071\n",
       "C    16.250315\n",
       "D    20.885467\n",
       "E    25.044723\n",
       "F    30.388350\n",
       "G    31.746032\n",
       "Name: grade, dtype: float64"
      ]
     },
     "execution_count": 46,
     "metadata": {},
     "output_type": "execute_result"
    }
   ],
   "source": [
    "defaulted.grade.value_counts(sort = True) *100 /df_new.grade.value_counts(sort = True)"
   ]
  },
  {
   "cell_type": "markdown",
   "metadata": {},
   "source": [
    "### Results :\n",
    "- Grade G has failed to repay the loan 100 times out of 315 times i.e 31.74 percent out of 100 percent.\n",
    "- Grade F has failed to repay the loan 313 times out of 1030 times i.e 30.88 times out of 100 percent.\n",
    "- *** There is higher chances that if the Loan is given to the grades i.e G and F it will be defaulted ***"
   ]
  },
  {
   "cell_type": "code",
   "execution_count": 47,
   "metadata": {},
   "outputs": [
    {
     "data": {
      "text/html": [
       "<div>\n",
       "<style scoped>\n",
       "    .dataframe tbody tr th:only-of-type {\n",
       "        vertical-align: middle;\n",
       "    }\n",
       "\n",
       "    .dataframe tbody tr th {\n",
       "        vertical-align: top;\n",
       "    }\n",
       "\n",
       "    .dataframe thead th {\n",
       "        text-align: right;\n",
       "    }\n",
       "</style>\n",
       "<table border=\"1\" class=\"dataframe\">\n",
       "  <thead>\n",
       "    <tr style=\"text-align: right;\">\n",
       "      <th></th>\n",
       "      <th>id</th>\n",
       "      <th>grade</th>\n",
       "      <th>sub_grade</th>\n",
       "      <th>annual_inc</th>\n",
       "      <th>loan_amnt</th>\n",
       "      <th>home_ownership</th>\n",
       "      <th>verification_status</th>\n",
       "      <th>emp_length</th>\n",
       "      <th>purpose</th>\n",
       "      <th>addr_state</th>\n",
       "      <th>term</th>\n",
       "      <th>int_rate</th>\n",
       "      <th>loan_status</th>\n",
       "    </tr>\n",
       "  </thead>\n",
       "  <tbody>\n",
       "    <tr>\n",
       "      <th>1</th>\n",
       "      <td>1077430</td>\n",
       "      <td>C</td>\n",
       "      <td>C4</td>\n",
       "      <td>30000.0</td>\n",
       "      <td>2500</td>\n",
       "      <td>RENT</td>\n",
       "      <td>Source Verified</td>\n",
       "      <td>1</td>\n",
       "      <td>car</td>\n",
       "      <td>GA</td>\n",
       "      <td>60</td>\n",
       "      <td>15</td>\n",
       "      <td>Charged Off</td>\n",
       "    </tr>\n",
       "    <tr>\n",
       "      <th>8</th>\n",
       "      <td>1071795</td>\n",
       "      <td>F</td>\n",
       "      <td>F2</td>\n",
       "      <td>40000.0</td>\n",
       "      <td>5600</td>\n",
       "      <td>OWN</td>\n",
       "      <td>Source Verified</td>\n",
       "      <td>4</td>\n",
       "      <td>small_business</td>\n",
       "      <td>CA</td>\n",
       "      <td>60</td>\n",
       "      <td>21</td>\n",
       "      <td>Charged Off</td>\n",
       "    </tr>\n",
       "    <tr>\n",
       "      <th>9</th>\n",
       "      <td>1071570</td>\n",
       "      <td>B</td>\n",
       "      <td>B5</td>\n",
       "      <td>15000.0</td>\n",
       "      <td>5375</td>\n",
       "      <td>RENT</td>\n",
       "      <td>Verified</td>\n",
       "      <td>1</td>\n",
       "      <td>other</td>\n",
       "      <td>TX</td>\n",
       "      <td>60</td>\n",
       "      <td>12</td>\n",
       "      <td>Charged Off</td>\n",
       "    </tr>\n",
       "    <tr>\n",
       "      <th>12</th>\n",
       "      <td>1064687</td>\n",
       "      <td>C</td>\n",
       "      <td>C1</td>\n",
       "      <td>30000.0</td>\n",
       "      <td>9000</td>\n",
       "      <td>RENT</td>\n",
       "      <td>Source Verified</td>\n",
       "      <td>1</td>\n",
       "      <td>debt_consolidation</td>\n",
       "      <td>VA</td>\n",
       "      <td>36</td>\n",
       "      <td>13</td>\n",
       "      <td>Charged Off</td>\n",
       "    </tr>\n",
       "    <tr>\n",
       "      <th>14</th>\n",
       "      <td>1069057</td>\n",
       "      <td>B</td>\n",
       "      <td>B2</td>\n",
       "      <td>100000.0</td>\n",
       "      <td>10000</td>\n",
       "      <td>RENT</td>\n",
       "      <td>Source Verified</td>\n",
       "      <td>3</td>\n",
       "      <td>other</td>\n",
       "      <td>CA</td>\n",
       "      <td>36</td>\n",
       "      <td>10</td>\n",
       "      <td>Charged Off</td>\n",
       "    </tr>\n",
       "  </tbody>\n",
       "</table>\n",
       "</div>"
      ],
      "text/plain": [
       "         id grade sub_grade  annual_inc  loan_amnt home_ownership  \\\n",
       "1   1077430     C        C4     30000.0       2500           RENT   \n",
       "8   1071795     F        F2     40000.0       5600            OWN   \n",
       "9   1071570     B        B5     15000.0       5375           RENT   \n",
       "12  1064687     C        C1     30000.0       9000           RENT   \n",
       "14  1069057     B        B2    100000.0      10000           RENT   \n",
       "\n",
       "   verification_status  emp_length             purpose addr_state  term  \\\n",
       "1      Source Verified           1                 car         GA    60   \n",
       "8      Source Verified           4      small_business         CA    60   \n",
       "9             Verified           1               other         TX    60   \n",
       "12     Source Verified           1  debt_consolidation         VA    36   \n",
       "14     Source Verified           3               other         CA    36   \n",
       "\n",
       "    int_rate  loan_status  \n",
       "1         15  Charged Off  \n",
       "8         21  Charged Off  \n",
       "9         12  Charged Off  \n",
       "12        13  Charged Off  \n",
       "14        10  Charged Off  "
      ]
     },
     "execution_count": 47,
     "metadata": {},
     "output_type": "execute_result"
    }
   ],
   "source": [
    "defaulted.head()"
   ]
  },
  {
   "cell_type": "code",
   "execution_count": 48,
   "metadata": {},
   "outputs": [
    {
     "data": {
      "image/png": "[encoded data removed]",
      "text/plain": [
       "<Figure size 432x288 with 1 Axes>"
      ]
     },
     "metadata": {},
     "output_type": "display_data"
    }
   ],
   "source": [
    "sb.boxplot(defaulted['loan_amnt']);"
   ]
  },
  {
   "cell_type": "code",
   "execution_count": 49,
   "metadata": {},
   "outputs": [
    {
     "name": "stdout",
     "output_type": "stream",
     "text": [
      "Min: 900.000\n",
      "Q1: 6000.000\n",
      "Median: 10000.000\n",
      "Q3: 17000.000\n",
      "Max: 35000.000\n"
     ]
    }
   ],
   "source": [
    "#More accuracte\n",
    "from numpy import percentile\n",
    "from numpy.random import rand\n",
    "# generate data sample\n",
    "data = defaulted['loan_amnt']\n",
    "# calculate quartiles\n",
    "quartiles = percentile(data, [25, 50, 75])\n",
    "# calculate min/max\n",
    "data_min, data_max = data.min(), data.max()\n",
    "# print 5-number summary\n",
    "print('Min: %.3f' % data_min)\n",
    "print('Q1: %.3f' % quartiles[0])\n",
    "print('Median: %.3f' % quartiles[1])\n",
    "print('Q3: %.3f' % quartiles[2])\n",
    "print('Max: %.3f' % data_max)"
   ]
  },
  {
   "cell_type": "code",
   "execution_count": 50,
   "metadata": {},
   "outputs": [
    {
     "data": {
      "text/plain": [
       "<matplotlib.axes._subplots.AxesSubplot at 0x1d0a74aa400>"
      ]
     },
     "execution_count": 50,
     "metadata": {},
     "output_type": "execute_result"
    },
    {
     "data": {
      "image/png": "[encoded data removed]",
      "text/plain": [
       "<Figure size 432x288 with 1 Axes>"
      ]
     },
     "metadata": {},
     "output_type": "display_data"
    }
   ],
   "source": [
    "# For Purpose\n",
    "(defaulted.purpose.value_counts(sort = True) * 100/df_new.purpose.value_counts(sort = True)).plot.bar()"
   ]
  },
  {
   "cell_type": "code",
   "execution_count": 51,
   "metadata": {},
   "outputs": [
    {
     "data": {
      "text/plain": [
       "debt_consolidation    18242\n",
       "credit_card            5000\n",
       "other                  3833\n",
       "home_improvement       2879\n",
       "major_purchase         2115\n",
       "small_business         1783\n",
       "car                    1497\n",
       "wedding                 934\n",
       "medical                 668\n",
       "moving                  559\n",
       "house                   368\n",
       "vacation                352\n",
       "educational             317\n",
       "renewable_energy         95\n",
       "Name: purpose, dtype: int64"
      ]
     },
     "execution_count": 51,
     "metadata": {},
     "output_type": "execute_result"
    }
   ],
   "source": [
    "# defaulted.purpose.value_counts(sort= True) *100 /\n",
    "df_new.purpose.value_counts()"
   ]
  },
  {
   "cell_type": "markdown",
   "metadata": {},
   "source": [
    "### Results :\n",
    "#### Top Purpose on which loan is defaulted.\n",
    "1. Small business Loan : Out of 1782 Loan_Id ,462 Loan is defaulted i.e 25.9% ~ 30% loan is in defaulted out of 100 percent\n",
    "2. Renewable Energy : Out of 95 loan_id , 18 loan_id is defaulted i.e 18.9% ~ 19%\n",
    "3. House Loan : Out of 368 Loan_Id ,59 Loan_Id is defaulted i.e 16.03%\n",
    "4. Educational Loan:Out of 317 Loan_Id , 52 Loan_Id is defaulted  i.e 16.4% "
   ]
  },
  {
   "cell_type": "code",
   "execution_count": 52,
   "metadata": {},
   "outputs": [
    {
     "data": {
      "text/html": [
       "<div>\n",
       "<style scoped>\n",
       "    .dataframe tbody tr th:only-of-type {\n",
       "        vertical-align: middle;\n",
       "    }\n",
       "\n",
       "    .dataframe tbody tr th {\n",
       "        vertical-align: top;\n",
       "    }\n",
       "\n",
       "    .dataframe thead th {\n",
       "        text-align: right;\n",
       "    }\n",
       "</style>\n",
       "<table border=\"1\" class=\"dataframe\">\n",
       "  <thead>\n",
       "    <tr style=\"text-align: right;\">\n",
       "      <th></th>\n",
       "      <th>id</th>\n",
       "      <th>grade</th>\n",
       "      <th>sub_grade</th>\n",
       "      <th>annual_inc</th>\n",
       "      <th>loan_amnt</th>\n",
       "      <th>home_ownership</th>\n",
       "      <th>verification_status</th>\n",
       "      <th>emp_length</th>\n",
       "      <th>purpose</th>\n",
       "      <th>addr_state</th>\n",
       "      <th>term</th>\n",
       "      <th>int_rate</th>\n",
       "      <th>loan_status</th>\n",
       "    </tr>\n",
       "  </thead>\n",
       "  <tbody>\n",
       "    <tr>\n",
       "      <th>1</th>\n",
       "      <td>1077430</td>\n",
       "      <td>C</td>\n",
       "      <td>C4</td>\n",
       "      <td>30000.0</td>\n",
       "      <td>2500</td>\n",
       "      <td>RENT</td>\n",
       "      <td>Source Verified</td>\n",
       "      <td>1</td>\n",
       "      <td>car</td>\n",
       "      <td>GA</td>\n",
       "      <td>60</td>\n",
       "      <td>15</td>\n",
       "      <td>Charged Off</td>\n",
       "    </tr>\n",
       "    <tr>\n",
       "      <th>8</th>\n",
       "      <td>1071795</td>\n",
       "      <td>F</td>\n",
       "      <td>F2</td>\n",
       "      <td>40000.0</td>\n",
       "      <td>5600</td>\n",
       "      <td>OWN</td>\n",
       "      <td>Source Verified</td>\n",
       "      <td>4</td>\n",
       "      <td>small_business</td>\n",
       "      <td>CA</td>\n",
       "      <td>60</td>\n",
       "      <td>21</td>\n",
       "      <td>Charged Off</td>\n",
       "    </tr>\n",
       "    <tr>\n",
       "      <th>9</th>\n",
       "      <td>1071570</td>\n",
       "      <td>B</td>\n",
       "      <td>B5</td>\n",
       "      <td>15000.0</td>\n",
       "      <td>5375</td>\n",
       "      <td>RENT</td>\n",
       "      <td>Verified</td>\n",
       "      <td>1</td>\n",
       "      <td>other</td>\n",
       "      <td>TX</td>\n",
       "      <td>60</td>\n",
       "      <td>12</td>\n",
       "      <td>Charged Off</td>\n",
       "    </tr>\n",
       "    <tr>\n",
       "      <th>12</th>\n",
       "      <td>1064687</td>\n",
       "      <td>C</td>\n",
       "      <td>C1</td>\n",
       "      <td>30000.0</td>\n",
       "      <td>9000</td>\n",
       "      <td>RENT</td>\n",
       "      <td>Source Verified</td>\n",
       "      <td>1</td>\n",
       "      <td>debt_consolidation</td>\n",
       "      <td>VA</td>\n",
       "      <td>36</td>\n",
       "      <td>13</td>\n",
       "      <td>Charged Off</td>\n",
       "    </tr>\n",
       "    <tr>\n",
       "      <th>14</th>\n",
       "      <td>1069057</td>\n",
       "      <td>B</td>\n",
       "      <td>B2</td>\n",
       "      <td>100000.0</td>\n",
       "      <td>10000</td>\n",
       "      <td>RENT</td>\n",
       "      <td>Source Verified</td>\n",
       "      <td>3</td>\n",
       "      <td>other</td>\n",
       "      <td>CA</td>\n",
       "      <td>36</td>\n",
       "      <td>10</td>\n",
       "      <td>Charged Off</td>\n",
       "    </tr>\n",
       "  </tbody>\n",
       "</table>\n",
       "</div>"
      ],
      "text/plain": [
       "         id grade sub_grade  annual_inc  loan_amnt home_ownership  \\\n",
       "1   1077430     C        C4     30000.0       2500           RENT   \n",
       "8   1071795     F        F2     40000.0       5600            OWN   \n",
       "9   1071570     B        B5     15000.0       5375           RENT   \n",
       "12  1064687     C        C1     30000.0       9000           RENT   \n",
       "14  1069057     B        B2    100000.0      10000           RENT   \n",
       "\n",
       "   verification_status  emp_length             purpose addr_state  term  \\\n",
       "1      Source Verified           1                 car         GA    60   \n",
       "8      Source Verified           4      small_business         CA    60   \n",
       "9             Verified           1               other         TX    60   \n",
       "12     Source Verified           1  debt_consolidation         VA    36   \n",
       "14     Source Verified           3               other         CA    36   \n",
       "\n",
       "    int_rate  loan_status  \n",
       "1         15  Charged Off  \n",
       "8         21  Charged Off  \n",
       "9         12  Charged Off  \n",
       "12        13  Charged Off  \n",
       "14        10  Charged Off  "
      ]
     },
     "execution_count": 52,
     "metadata": {},
     "output_type": "execute_result"
    }
   ],
   "source": [
    "defaulted.head()"
   ]
  },
  {
   "cell_type": "code",
   "execution_count": 53,
   "metadata": {},
   "outputs": [
    {
     "data": {
      "image/png": "[encoded data removed]",
      "text/plain": [
       "<Figure size 432x288 with 1 Axes>"
      ]
     },
     "metadata": {},
     "output_type": "display_data"
    }
   ],
   "source": [
    "# For Home_Ownership\n",
    "base_color = sb.color_palette()[0]\n",
    "(defaulted.home_ownership.value_counts(sort = True) * 100/df_new.home_ownership.value_counts(sort = True)).plot(kind = 'bar' , color= base_color);"
   ]
  },
  {
   "cell_type": "code",
   "execution_count": 54,
   "metadata": {},
   "outputs": [
    {
     "data": {
      "text/plain": [
       "MORTGAGE    13.043226\n",
       "NONE              NaN\n",
       "OTHER       18.367347\n",
       "OWN         14.079549\n",
       "RENT        14.798788\n",
       "Name: home_ownership, dtype: float64"
      ]
     },
     "execution_count": 54,
     "metadata": {},
     "output_type": "execute_result"
    }
   ],
   "source": [
    "defaulted.home_ownership.value_counts(sort = True)  * 100/df_new.home_ownership.value_counts(sort = True)"
   ]
  },
  {
   "cell_type": "markdown",
   "metadata": {},
   "source": [
    "### Results :\n",
    "#### Top Home Status which failed to pay Loan\n",
    "- Home Ownership which is **Other**  has failed to pay loan 2736 time out of 18488 i.e ***18.36%*** out of 100%.\n",
    "- Home Ownership which is **Rent** has failed to pay loan 2736 times out of 18488 i.e ***14.79%*** out of 100%."
   ]
  },
  {
   "cell_type": "code",
   "execution_count": 55,
   "metadata": {
    "scrolled": true
   },
   "outputs": [
    {
     "data": {
      "text/plain": [
       "Text(0,0.5,'In Percetage')"
      ]
     },
     "execution_count": 55,
     "metadata": {},
     "output_type": "execute_result"
    },
    {
     "data": {
      "image/png": "[encoded data removed]",
      "text/plain": [
       "<Figure size 432x288 with 1 Axes>"
      ]
     },
     "metadata": {},
     "output_type": "display_data"
    }
   ],
   "source": [
    "# For Verification Status\n",
    "base_color = sb.color_palette()[0]\n",
    "(defaulted.verification_status.value_counts(sort = True) * 100/df_new.verification_status.value_counts(sort = True)).plot(kind = 'bar',color = base_color)\n",
    "plt.ylabel(\"In Percetage\")"
   ]
  },
  {
   "cell_type": "code",
   "execution_count": 56,
   "metadata": {
    "scrolled": false
   },
   "outputs": [
    {
     "data": {
      "text/plain": [
       "Not Verified       12.419687\n",
       "Verified           15.818020\n",
       "Source Verified    14.257992\n",
       "Name: verification_status, dtype: float64"
      ]
     },
     "execution_count": 56,
     "metadata": {},
     "output_type": "execute_result"
    }
   ],
   "source": [
    "defaulted.verification_status.value_counts(sort = True) * 100/ df_new.verification_status.value_counts(sort = True)"
   ]
  },
  {
   "cell_type": "markdown",
   "metadata": {},
   "source": [
    "### Results :\n",
    "#### Verification status Details :\n",
    "- **Verified :**  Total-12353 ,Defaulted - 1954 i.e ***15.81% Defaulted out of 100%***\n",
    "- **Source Verified :**  Total- 9791 , Defaulted - 1396 i.e ***14.25% Defaulted out of 100%***\n",
    "- **Not Verified :**  Total-16498 , Defaulted - 2049 i.e ***12.41% Defaulted out of 100%***"
   ]
  },
  {
   "cell_type": "code",
   "execution_count": 112,
   "metadata": {},
   "outputs": [
    {
     "data": {
      "text/plain": [
       "10    14.990427\n",
       "1     13.997188\n",
       "2     12.921604\n",
       "3     13.553114\n",
       "4     13.445867\n",
       "5     13.954906\n",
       "6     13.772992\n",
       "7     14.833615\n",
       "8     13.725490\n",
       "9     12.559618\n",
       "Name: emp_length, dtype: float64"
      ]
     },
     "execution_count": 112,
     "metadata": {},
     "output_type": "execute_result"
    }
   ],
   "source": [
    "#For emp_length\n",
    "defaulted.emp_length.value_counts(sort = True) * 100/ df_new.emp_length.value_counts(sort = True)"
   ]
  },
  {
   "cell_type": "markdown",
   "metadata": {},
   "source": [
    "### Results :\n",
    "#### Emp_length Details :\n",
    "- **Emp_length: >10**  Total-8879 ,Defaulted - 1331 i.e ***14.99% ~ 15% Defaulted out of 100%***\n",
    "- **Emp_length: 7**  Total- 1773 , Defaulted - 263 i.e ***14.83% Defaulted out of 100%***\n",
    "- **Emp_length: 1**  Total-7823 , Defaulted - 1095 i.e ***13.99% Defaulted out of 100%***\n",
    "#### This is not a strong variable to predict whether or not Loan ID will be defaullted"
   ]
  },
  {
   "cell_type": "code",
   "execution_count": 115,
   "metadata": {},
   "outputs": [
    {
     "data": {
      "text/html": [
       "<div>\n",
       "<style scoped>\n",
       "    .dataframe tbody tr th:only-of-type {\n",
       "        vertical-align: middle;\n",
       "    }\n",
       "\n",
       "    .dataframe tbody tr th {\n",
       "        vertical-align: top;\n",
       "    }\n",
       "\n",
       "    .dataframe thead th {\n",
       "        text-align: right;\n",
       "    }\n",
       "</style>\n",
       "<table border=\"1\" class=\"dataframe\">\n",
       "  <thead>\n",
       "    <tr style=\"text-align: right;\">\n",
       "      <th></th>\n",
       "      <th>id</th>\n",
       "      <th>grade</th>\n",
       "      <th>sub_grade</th>\n",
       "      <th>annual_inc</th>\n",
       "      <th>loan_amnt</th>\n",
       "      <th>home_ownership</th>\n",
       "      <th>verification_status</th>\n",
       "      <th>emp_length</th>\n",
       "      <th>purpose</th>\n",
       "      <th>addr_state</th>\n",
       "      <th>term</th>\n",
       "      <th>int_rate</th>\n",
       "      <th>loan_status</th>\n",
       "    </tr>\n",
       "  </thead>\n",
       "  <tbody>\n",
       "    <tr>\n",
       "      <th>1</th>\n",
       "      <td>1077430</td>\n",
       "      <td>C</td>\n",
       "      <td>C4</td>\n",
       "      <td>30000.0</td>\n",
       "      <td>2500</td>\n",
       "      <td>RENT</td>\n",
       "      <td>Source Verified</td>\n",
       "      <td>1</td>\n",
       "      <td>car</td>\n",
       "      <td>GA</td>\n",
       "      <td>60</td>\n",
       "      <td>15</td>\n",
       "      <td>Charged Off</td>\n",
       "    </tr>\n",
       "    <tr>\n",
       "      <th>8</th>\n",
       "      <td>1071795</td>\n",
       "      <td>F</td>\n",
       "      <td>F2</td>\n",
       "      <td>40000.0</td>\n",
       "      <td>5600</td>\n",
       "      <td>OWN</td>\n",
       "      <td>Source Verified</td>\n",
       "      <td>4</td>\n",
       "      <td>small_business</td>\n",
       "      <td>CA</td>\n",
       "      <td>60</td>\n",
       "      <td>21</td>\n",
       "      <td>Charged Off</td>\n",
       "    </tr>\n",
       "    <tr>\n",
       "      <th>9</th>\n",
       "      <td>1071570</td>\n",
       "      <td>B</td>\n",
       "      <td>B5</td>\n",
       "      <td>15000.0</td>\n",
       "      <td>5375</td>\n",
       "      <td>RENT</td>\n",
       "      <td>Verified</td>\n",
       "      <td>1</td>\n",
       "      <td>other</td>\n",
       "      <td>TX</td>\n",
       "      <td>60</td>\n",
       "      <td>12</td>\n",
       "      <td>Charged Off</td>\n",
       "    </tr>\n",
       "    <tr>\n",
       "      <th>12</th>\n",
       "      <td>1064687</td>\n",
       "      <td>C</td>\n",
       "      <td>C1</td>\n",
       "      <td>30000.0</td>\n",
       "      <td>9000</td>\n",
       "      <td>RENT</td>\n",
       "      <td>Source Verified</td>\n",
       "      <td>1</td>\n",
       "      <td>debt_consolidation</td>\n",
       "      <td>VA</td>\n",
       "      <td>36</td>\n",
       "      <td>13</td>\n",
       "      <td>Charged Off</td>\n",
       "    </tr>\n",
       "    <tr>\n",
       "      <th>14</th>\n",
       "      <td>1069057</td>\n",
       "      <td>B</td>\n",
       "      <td>B2</td>\n",
       "      <td>100000.0</td>\n",
       "      <td>10000</td>\n",
       "      <td>RENT</td>\n",
       "      <td>Source Verified</td>\n",
       "      <td>3</td>\n",
       "      <td>other</td>\n",
       "      <td>CA</td>\n",
       "      <td>36</td>\n",
       "      <td>10</td>\n",
       "      <td>Charged Off</td>\n",
       "    </tr>\n",
       "  </tbody>\n",
       "</table>\n",
       "</div>"
      ],
      "text/plain": [
       "         id grade sub_grade  annual_inc  loan_amnt home_ownership  \\\n",
       "1   1077430     C        C4     30000.0       2500           RENT   \n",
       "8   1071795     F        F2     40000.0       5600            OWN   \n",
       "9   1071570     B        B5     15000.0       5375           RENT   \n",
       "12  1064687     C        C1     30000.0       9000           RENT   \n",
       "14  1069057     B        B2    100000.0      10000           RENT   \n",
       "\n",
       "   verification_status  emp_length             purpose addr_state  term  \\\n",
       "1      Source Verified           1                 car         GA    60   \n",
       "8      Source Verified           4      small_business         CA    60   \n",
       "9             Verified           1               other         TX    60   \n",
       "12     Source Verified           1  debt_consolidation         VA    36   \n",
       "14     Source Verified           3               other         CA    36   \n",
       "\n",
       "    int_rate  loan_status  \n",
       "1         15  Charged Off  \n",
       "8         21  Charged Off  \n",
       "9         12  Charged Off  \n",
       "12        13  Charged Off  \n",
       "14        10  Charged Off  "
      ]
     },
     "execution_count": 115,
     "metadata": {},
     "output_type": "execute_result"
    }
   ],
   "source": [
    "defaulted.head()"
   ]
  },
  {
   "cell_type": "code",
   "execution_count": 122,
   "metadata": {
    "scrolled": true
   },
   "outputs": [
    {
     "data": {
      "image/png": "[encoded data removed]",
      "text/plain": [
       "<Figure size 648x432 with 2 Axes>"
      ]
     },
     "metadata": {},
     "output_type": "display_data"
    }
   ],
   "source": [
    "matrix = df_new.corr() \n",
    "f, ax = plt.subplots(figsize=(9, 6)) \n",
    "sb.heatmap(matrix, vmax=.8, square=True, cmap=\"BuPu\");"
   ]
  },
  {
   "cell_type": "markdown",
   "metadata": {},
   "source": [
    "#### We see that there is a strong coreleation between the variables \"\n",
    "- ***Interest Rate and Term***\n",
    "- ***Loan Amount and Term***\n",
    "- ***loan Amount and Interest Rate***"
   ]
  },
  {
   "cell_type": "markdown",
   "metadata": {},
   "source": [
    "# Findings :\n",
    "\n",
    "##### About Annual Income :\n",
    "- 50% of the data lies within 38,244Rs and 75,000Rs i.e ***Loan id which has annual_income approx between 38k to 75k  fail to pay the loan***\n",
    "\n",
    "##### About Grades :\n",
    "- Grade G has failed to repay the loan 100 times out of 315 times i.e 31.74 percent out of 100 percent.\n",
    "- Grade F has failed to repay the loan 313 times out of 1030 times i.e 30.88 times out of 100 percent.\n",
    "- *** There is higher chances that if the Loan is given to the grades i.e G and F it will be defaulted ***\n",
    "\n",
    "#### Top Purpose on which loan is defaulted.\n",
    "1. Small business Loan : Out of 1782 Loan_Id ,462 Loan is defaulted i.e 25.9% ~ 30% loan is in defaulted out of 100 percent\n",
    "2. Renewable Energy : Out of 95 loan_id , 18 loan_id is defaulted i.e 18.9% ~ 19%\n",
    "3. House Loan : Out of 368 Loan_Id ,59 Loan_Id is defaulted i.e 16.03%\n",
    "4. Educational Loan:Out of 317 Loan_Id , 52 Loan_Id is defaulted  i.e 16.4% \n",
    "\n",
    "#### Top Home Status which failed to pay Loan\n",
    "- Home Ownership which is **Other**  has failed to pay loan 2736 time out of 18488 i.e ***18.36%*** out of 100%.\n",
    "- Home Ownership which is **Rent** has failed to pay loan 2736 times out of 18488 i.e ***14.79%*** out of 100%.\n",
    "\n",
    "#### Emp_length Details :\n",
    "- **Emp_length: >10**  Total-8879 ,Defaulted - 1331 i.e ***14.99% ~ 15% Defaulted out of 100%***\n",
    "- **Emp_length: 7**  Total- 1773 , Defaulted - 263 i.e ***14.83% Defaulted out of 100%***\n",
    "- **Emp_length: 1**  Total-7823 , Defaulted - 1095 i.e ***13.99% Defaulted out of 100%***\n",
    "#### This is not a strong variable to predict whether or not Loan ID will be defaullted\n",
    "\n"
   ]
  }
 ],
 "metadata": {
  "kernelspec": {
   "display_name": "Python [conda env:Anaconda3]",
   "language": "python",
   "name": "conda-env-Anaconda3-py"
  },
  "language_info": {
   "codemirror_mode": {
    "name": "ipython",
    "version": 3
   },
   "file_extension": ".py",
   "mimetype": "text/x-python",
   "name": "python",
   "nbconvert_exporter": "python",
   "pygments_lexer": "ipython3",
   "version": "3.6.5"
  }
 },
 "nbformat": 4,
 "nbformat_minor": 2
}
